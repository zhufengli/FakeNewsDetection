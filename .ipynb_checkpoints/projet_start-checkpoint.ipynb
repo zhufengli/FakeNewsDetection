{
 "cells": [
  {
   "cell_type": "code",
   "execution_count": 1,
   "metadata": {},
   "outputs": [
    {
     "name": "stderr",
     "output_type": "stream",
     "text": [
      "Using TensorFlow backend.\n"
     ]
    }
   ],
   "source": [
    "import numpy as np\n",
    "from sklearn import model_selection, preprocessing, linear_model, naive_bayes, metrics, svm\n",
    "from sklearn.feature_extraction.text import TfidfVectorizer, CountVectorizer\n",
    "from sklearn import decomposition, ensemble\n",
    "import pandas, xgboost, numpy, textblob, string\n",
    "from keras.preprocessing import text, sequence\n",
    "from keras import layers, models, optimizers\n",
    "from keras.utils.np_utils import to_categorical\n",
    "import _pickle as cPickle \n",
    "import pandas as pd\n",
    "\n",
    "from keras.models import load_model\n",
    "import matplotlib.pyplot as plt"
   ]
  },
  {
   "cell_type": "code",
   "execution_count": 2,
   "metadata": {},
   "outputs": [],
   "source": [
    "bodies = pd.read_csv('data/train_bodies.csv')\n",
    "stances = pd.read_csv('data/train_stances.csv')"
   ]
  },
  {
   "cell_type": "code",
   "execution_count": 3,
   "metadata": {},
   "outputs": [],
   "source": [
    "#Associate titles with bodies by ID\n",
    "bd = []\n",
    "for i in range(stances['Body ID'].shape[0]):\n",
    "    index = stances['Body ID'][i]\n",
    "    bd.append(bodies[bodies['Body ID']==index]['articleBody'].values[0])"
   ]
  },
  {
   "cell_type": "code",
   "execution_count": 4,
   "metadata": {},
   "outputs": [],
   "source": [
    "se = pd.Series(bd)\n",
    "stances['articleBody'] = se.values\n",
    "#stances.columns\n",
    "stances = stances[['Body ID','Headline','articleBody','Stance',]]"
   ]
  },
  {
   "cell_type": "code",
   "execution_count": 5,
   "metadata": {},
   "outputs": [
    {
     "data": {
      "text/html": [
       "<div>\n",
       "<style scoped>\n",
       "    .dataframe tbody tr th:only-of-type {\n",
       "        vertical-align: middle;\n",
       "    }\n",
       "\n",
       "    .dataframe tbody tr th {\n",
       "        vertical-align: top;\n",
       "    }\n",
       "\n",
       "    .dataframe thead th {\n",
       "        text-align: right;\n",
       "    }\n",
       "</style>\n",
       "<table border=\"1\" class=\"dataframe\">\n",
       "  <thead>\n",
       "    <tr style=\"text-align: right;\">\n",
       "      <th></th>\n",
       "      <th>Body ID</th>\n",
       "      <th>Headline</th>\n",
       "      <th>articleBody</th>\n",
       "      <th>Stance</th>\n",
       "    </tr>\n",
       "  </thead>\n",
       "  <tbody>\n",
       "    <tr>\n",
       "      <th>32252</th>\n",
       "      <td>520</td>\n",
       "      <td>Continuing Violence Puts Boko Haram Ceasefire ...</td>\n",
       "      <td>The Islamist militant group Boko Haram has agr...</td>\n",
       "      <td>discuss</td>\n",
       "    </tr>\n",
       "    <tr>\n",
       "      <th>14055</th>\n",
       "      <td>1819</td>\n",
       "      <td>Bali spider burrows under Aussie’s chest</td>\n",
       "      <td>A holidaymaker was left horrified after discov...</td>\n",
       "      <td>agree</td>\n",
       "    </tr>\n",
       "    <tr>\n",
       "      <th>45207</th>\n",
       "      <td>1519</td>\n",
       "      <td>KC hospital: Patient does not have symptom pro...</td>\n",
       "      <td>First, there was #BendGate. Reports flooded th...</td>\n",
       "      <td>unrelated</td>\n",
       "    </tr>\n",
       "    <tr>\n",
       "      <th>29305</th>\n",
       "      <td>1660</td>\n",
       "      <td>11 jetliners 'missing' after Islamist takeover...</td>\n",
       "      <td>Years ago, I had a job in China where I evalua...</td>\n",
       "      <td>unrelated</td>\n",
       "    </tr>\n",
       "    <tr>\n",
       "      <th>46505</th>\n",
       "      <td>527</td>\n",
       "      <td>IRAQI AND KURDISH MEDIA REPORTS: ISIS FIGHTERS...</td>\n",
       "      <td>A hallucinogenic fungi has been found growing ...</td>\n",
       "      <td>unrelated</td>\n",
       "    </tr>\n",
       "    <tr>\n",
       "      <th>47963</th>\n",
       "      <td>1122</td>\n",
       "      <td>No, there aren’t any Ebola cases in Iraq</td>\n",
       "      <td>Forget targeted US airstrikes, ISIS faces a ne...</td>\n",
       "      <td>discuss</td>\n",
       "    </tr>\n",
       "    <tr>\n",
       "      <th>16553</th>\n",
       "      <td>139</td>\n",
       "      <td>Isis militants claim to have killed US journal...</td>\n",
       "      <td>Judd Nelson rebuffs Internet rumors that he di...</td>\n",
       "      <td>unrelated</td>\n",
       "    </tr>\n",
       "    <tr>\n",
       "      <th>22944</th>\n",
       "      <td>2463</td>\n",
       "      <td>Ebola Outbreak 2015 Update: ISIS Fighters May ...</td>\n",
       "      <td>ABUJA, Nigeria — The leader of Nigeria's Islam...</td>\n",
       "      <td>unrelated</td>\n",
       "    </tr>\n",
       "    <tr>\n",
       "      <th>12808</th>\n",
       "      <td>2372</td>\n",
       "      <td>Low-level marijuana possession could soon land...</td>\n",
       "      <td>Mayor de Blasio and NYPD Commissioner Bill Bra...</td>\n",
       "      <td>discuss</td>\n",
       "    </tr>\n",
       "    <tr>\n",
       "      <th>28897</th>\n",
       "      <td>2067</td>\n",
       "      <td>BREAKING NEWS: ISIS beheads missing American j...</td>\n",
       "      <td>President Barack Obama denounced Islamic State...</td>\n",
       "      <td>agree</td>\n",
       "    </tr>\n",
       "  </tbody>\n",
       "</table>\n",
       "</div>"
      ],
      "text/plain": [
       "       Body ID                                           Headline  \\\n",
       "32252      520  Continuing Violence Puts Boko Haram Ceasefire ...   \n",
       "14055     1819           Bali spider burrows under Aussie’s chest   \n",
       "45207     1519  KC hospital: Patient does not have symptom pro...   \n",
       "29305     1660  11 jetliners 'missing' after Islamist takeover...   \n",
       "46505      527  IRAQI AND KURDISH MEDIA REPORTS: ISIS FIGHTERS...   \n",
       "47963     1122           No, there aren’t any Ebola cases in Iraq   \n",
       "16553      139  Isis militants claim to have killed US journal...   \n",
       "22944     2463  Ebola Outbreak 2015 Update: ISIS Fighters May ...   \n",
       "12808     2372  Low-level marijuana possession could soon land...   \n",
       "28897     2067  BREAKING NEWS: ISIS beheads missing American j...   \n",
       "\n",
       "                                             articleBody     Stance  \n",
       "32252  The Islamist militant group Boko Haram has agr...    discuss  \n",
       "14055  A holidaymaker was left horrified after discov...      agree  \n",
       "45207  First, there was #BendGate. Reports flooded th...  unrelated  \n",
       "29305  Years ago, I had a job in China where I evalua...  unrelated  \n",
       "46505  A hallucinogenic fungi has been found growing ...  unrelated  \n",
       "47963  Forget targeted US airstrikes, ISIS faces a ne...    discuss  \n",
       "16553  Judd Nelson rebuffs Internet rumors that he di...  unrelated  \n",
       "22944  ABUJA, Nigeria — The leader of Nigeria's Islam...  unrelated  \n",
       "12808  Mayor de Blasio and NYPD Commissioner Bill Bra...    discuss  \n",
       "28897  President Barack Obama denounced Islamic State...      agree  "
      ]
     },
     "execution_count": 5,
     "metadata": {},
     "output_type": "execute_result"
    }
   ],
   "source": [
    "stances.sample(10)"
   ]
  },
  {
   "cell_type": "code",
   "execution_count": 6,
   "metadata": {},
   "outputs": [],
   "source": [
    "#create a dataframe using texts and lables\n",
    "trainDF = pandas.DataFrame()\n",
    "trainDF['text'] = stances['articleBody']\n",
    "trainDF['label'] = stances['Stance']"
   ]
  },
  {
   "cell_type": "code",
   "execution_count": 7,
   "metadata": {},
   "outputs": [],
   "source": [
    "# split the dataset into training and validation datasets \n",
    "train_x, test_x, train_y, test_y = model_selection.train_test_split(trainDF.drop([27670])['text'],trainDF.drop([27670])['label'],stratify=trainDF.drop([27670])['label'],shuffle=True,random_state=1410)\n",
    "# label encode the target variable \n",
    "encoder = preprocessing.LabelEncoder()\n",
    "train_y = encoder.fit_transform(train_y)\n",
    "test_y = encoder.fit_transform(test_y)"
   ]
  },
  {
   "cell_type": "code",
   "execution_count": 8,
   "metadata": {
    "scrolled": true
   },
   "outputs": [],
   "source": [
    "# !wget -O ./data/embedding https://s3-us-west-1.amazonaws.com/fasttext-vectors/wiki-news-300d-1M.vec.zip # download embedding\n",
    "# !unzip -o ./data/embedding -d ./data/  #Unzip embedding\n",
    "# !rm ./data/embedding #Remove zip file"
   ]
  },
  {
   "cell_type": "code",
   "execution_count": 9,
   "metadata": {},
   "outputs": [],
   "source": [
    "#https://s3-us-west-1.amazonaws.com/fasttext-vectors/wiki-news-300d-1M.vec.zip\n",
    "#Embedding the words\n",
    "def load_vectors(fname,nb):\n",
    "    fin = open(fname, 'r', encoding='utf-8', newline='\\n', errors='ignore')\n",
    "    n, d = map(int, fin.readline().split())\n",
    "    data = {}\n",
    "    count = 0\n",
    "    for line in fin:\n",
    "        tokens = line.rstrip().split(' ')\n",
    "        data[tokens[0]] = numpy.asarray(tokens[1:], dtype='float32')\n",
    "        count += 1\n",
    "        if count > nb:\n",
    "            break\n",
    "    return data\n",
    "\n",
    "#Only load the most frequent words 150k\n",
    "embeddings_index = load_vectors('data/wiki-news-300d-1M.vec',150000) \n",
    "\n",
    "# create a tokenizer \n",
    "token = text.Tokenizer()\n",
    "token.fit_on_texts(trainDF['text'])\n",
    "word_index = token.word_index\n",
    "\n",
    "# convert text to sequence of tokens and pad them to ensure equal length vectors \n",
    "train_seq_x = sequence.pad_sequences(token.texts_to_sequences(train_x), maxlen=70)\n",
    "test_seq_x = sequence.pad_sequences(token.texts_to_sequences(test_x), maxlen=70)\n",
    "\n",
    "# create token-embedding mapping\n",
    "embedding_matrix = numpy.zeros((len(word_index) + 1, 300))\n",
    "for word, i in word_index.items():\n",
    "    embedding_vector = embeddings_index.get(word)\n",
    "    if embedding_vector is not None:\n",
    "        embedding_matrix[i] = embedding_vector"
   ]
  },
  {
   "cell_type": "code",
   "execution_count": null,
   "metadata": {},
   "outputs": [],
   "source": [
    "#Text classification models"
   ]
  }
 ],
 "metadata": {
  "kernelspec": {
   "display_name": "Python 3",
   "language": "python",
   "name": "python3"
  },
  "language_info": {
   "codemirror_mode": {
    "name": "ipython",
    "version": 3
   },
   "file_extension": ".py",
   "mimetype": "text/x-python",
   "name": "python",
   "nbconvert_exporter": "python",
   "pygments_lexer": "ipython3",
   "version": "3.6.5"
  }
 },
 "nbformat": 4,
 "nbformat_minor": 2
}
